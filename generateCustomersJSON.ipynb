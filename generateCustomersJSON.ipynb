{
 "cells": [
  {
   "cell_type": "code",
   "execution_count": 325,
   "metadata": {},
   "outputs": [],
   "source": [
    "from datetime import date,timedelta\n",
    "import uuid\n",
    "import jaydebeapi, os\n",
    "import random\n",
    "import simplejson as json\n",
    "\n",
    "\n",
    "def getToday():\n",
    "    return date.today().isoformat()\n",
    "\n",
    "def generateJSON(record):\n",
    "    \n",
    "    j = {}\n",
    "    \n",
    "    columns=record.getColumns()\n",
    "    values=record.getValues()\n",
    "    \n",
    "    \n",
    "    for i in range(len(columns)):\n",
    "        j[columns[i]] = values[i]\n",
    "        \n",
    "    print(j)\n",
    "    return (j)"
   ]
  },
  {
   "cell_type": "code",
   "execution_count": 326,
   "metadata": {},
   "outputs": [],
   "source": [
    "class Customer:\n",
    "    \n",
    "    columns = ['customernumber',\n",
    "     'customername',           \n",
    "    'phonenumber',\n",
    "    'postalcode',\n",
    "    'locale',\n",
    "    'datecreated',\n",
    "    'email']\n",
    "    \n",
    "    salesOrders = []\n",
    "\n",
    "    \n",
    "    def __init__(self):\n",
    "        \n",
    "        self.customernumber = str(uuid.uuid1())\n",
    "        self.customername = randomString(20)\n",
    "        self.phonenumber = random.randint(1000000,9000000)\n",
    "        self.postalcode = randomString(4)\n",
    "        self.locale = 'en-US.utf-8'\n",
    "        self.datecreated = getToday()\n",
    "        self.email = randomString(4) + '@' + randomString(4) + \".com\"\n",
    "        \n",
    "      \n",
    "        \n",
    "    def getColumns(self):\n",
    "        return self.columns\n",
    "    \n",
    "    def getValues(self):\n",
    "               \n",
    "        return [self.customernumber,\n",
    "            self.customername,\n",
    "            self.phonenumber,\n",
    "            self.postalcode,\n",
    "            self.locale,\n",
    "            self.datecreated,\n",
    "            self.email]\n",
    "\n",
    "    def getSalesOrders(self):\n",
    "        return self.salesOrders\n",
    "     \n",
    "class SalesOrder:\n",
    "\n",
    "    columns =  ['customernumber',\n",
    "        'ordernumber' ,\n",
    "        'comments' ,\n",
    "        'orderdate' ,\n",
    "        'ordertype' ,\n",
    "        'shipdate'  ,\n",
    "        'discount'  ,\n",
    "        'quantity'  ,\n",
    "        'productnumber']\n",
    "\n",
    "    def __init__(self, customerNumber):\n",
    "\n",
    "        self.customernumber = customerNumber\n",
    "        self.ordernumber = str(uuid.uuid1())\n",
    "        self.comments = randomString(20)\n",
    "        self.orderdate =  getToday()\n",
    "        self.ordertype = \"sale\"\n",
    "        self.shipdate  =  (date.today() + timedelta(days=random.randint(3,14))).isoformat()\n",
    "        self.discount  = random.random()\n",
    "        self.quantity  = random.randint(1,100)\n",
    "        self.productnumber = str(uuid.uuid1())  \n",
    "        \n",
    "    def getColumns(self):\n",
    "        return self.columns    \n",
    "        \n",
    "        \n",
    "    def getValues(self):\n",
    "        return  [ self.customernumber,\n",
    "        self.ordernumber ,\n",
    "        self.comments ,\n",
    "        self.orderdate ,\n",
    "        self.ordertype ,\n",
    "        self.shipdate  ,\n",
    "        self.discount  ,\n",
    "        self.quantity  ,\n",
    "        self.productnumber ]\n",
    "\n",
    " \n"
   ]
  },
  {
   "cell_type": "code",
   "execution_count": 327,
   "metadata": {},
   "outputs": [],
   "source": [
    "def randomString(length):\n",
    "    \n",
    "    char=\"\"\n",
    "    for i in range(length):\n",
    "        char = char + chr(random.randint(97,122))\n",
    "    return char"
   ]
  },
  {
   "cell_type": "code",
   "execution_count": 328,
   "metadata": {},
   "outputs": [],
   "source": [
    "def commaCheck(field):\n",
    "    \n",
    "    if isinstance(field,int):\n",
    "        return  str(field)  \n",
    "    if isinstance(field,float):\n",
    "        return  str(field) \n",
    "    else:\n",
    "        return field "
   ]
  },
  {
   "cell_type": "code",
   "execution_count": 329,
   "metadata": {},
   "outputs": [],
   "source": [
    "def generateCustomers(c,o):\n",
    "    for i in range(2):        \n",
    "        customer = Customer()\n",
    "       \n",
    "        columns = ','.join([col for col in customer.getColumns()])\n",
    "        values = ','.join([\"'\" + commaCheck(value) + \"'\" for value in customer.getValues()])\n",
    "\n",
    "        print(columns)\n",
    "        print(values)\n",
    "        j=generateJSON(customer)\n",
    "        print(j)\n",
    "        \n",
    "        c.write(json.dumps(j))\n",
    "        generateOrders(customer,o)     "
   ]
  },
  {
   "cell_type": "code",
   "execution_count": 330,
   "metadata": {},
   "outputs": [],
   "source": [
    "def generateOrders(customer,o):\n",
    "    \n",
    "    for i in range(random.randint(1,4)):\n",
    "    \n",
    "        order=SalesOrder(customer.customernumber)\n",
    "         \n",
    "        columns = ','.join([col for col in order.getColumns()])\n",
    "        print(order.getColumns())\n",
    "        print(order.getValues())\n",
    "        values = ','.join([\"'\" + commaCheck(value) + \"'\" for value in order.getValues()])\n",
    "\n",
    "        j=generateJSON(order)\n",
    "        print(j)\n",
    "        customer.salesOrders.append(j)\n",
    "        o.write(json.dumps(j))\n",
    "        \n",
    "    print(customer.getSalesOrders())\n",
    "\n",
    "   \n",
    "      \n",
    "\n",
    "         "
   ]
  },
  {
   "cell_type": "code",
   "execution_count": 331,
   "metadata": {},
   "outputs": [
    {
     "name": "stdout",
     "output_type": "stream",
     "text": [
      "customernumber,customername,phonenumber,postalcode,locale,datecreated,email\n",
      "'d5d5b72c-edd7-11ea-ab7a-0ec120e133fc','sgyomykutraerhwxuwpl','7295614','fjqw','en-US.utf-8','2020-09-03','zybd@hcvc.com'\n",
      "{'customernumber': 'd5d5b72c-edd7-11ea-ab7a-0ec120e133fc', 'customername': 'sgyomykutraerhwxuwpl', 'phonenumber': 7295614, 'postalcode': 'fjqw', 'locale': 'en-US.utf-8', 'datecreated': '2020-09-03', 'email': 'zybd@hcvc.com'}\n",
      "{'customernumber': 'd5d5b72c-edd7-11ea-ab7a-0ec120e133fc', 'customername': 'sgyomykutraerhwxuwpl', 'phonenumber': 7295614, 'postalcode': 'fjqw', 'locale': 'en-US.utf-8', 'datecreated': '2020-09-03', 'email': 'zybd@hcvc.com'}\n",
      "['customernumber', 'ordernumber', 'comments', 'orderdate', 'ordertype', 'shipdate', 'discount', 'quantity', 'productnumber']\n",
      "['d5d5b72c-edd7-11ea-ab7a-0ec120e133fc', 'd5d5b72d-edd7-11ea-ab7a-0ec120e133fc', 'syjizruunqxuaevyiaqx', '2020-09-03', 'sale', '2020-09-16', 0.1965497953690316, 29, 'd5d5b72e-edd7-11ea-ab7a-0ec120e133fc']\n",
      "{'customernumber': 'd5d5b72c-edd7-11ea-ab7a-0ec120e133fc', 'ordernumber': 'd5d5b72d-edd7-11ea-ab7a-0ec120e133fc', 'comments': 'syjizruunqxuaevyiaqx', 'orderdate': '2020-09-03', 'ordertype': 'sale', 'shipdate': '2020-09-16', 'discount': 0.1965497953690316, 'quantity': 29, 'productnumber': 'd5d5b72e-edd7-11ea-ab7a-0ec120e133fc'}\n",
      "{'customernumber': 'd5d5b72c-edd7-11ea-ab7a-0ec120e133fc', 'ordernumber': 'd5d5b72d-edd7-11ea-ab7a-0ec120e133fc', 'comments': 'syjizruunqxuaevyiaqx', 'orderdate': '2020-09-03', 'ordertype': 'sale', 'shipdate': '2020-09-16', 'discount': 0.1965497953690316, 'quantity': 29, 'productnumber': 'd5d5b72e-edd7-11ea-ab7a-0ec120e133fc'}\n",
      "[{'customernumber': 'd5d5b72c-edd7-11ea-ab7a-0ec120e133fc', 'ordernumber': 'd5d5b72d-edd7-11ea-ab7a-0ec120e133fc', 'comments': 'syjizruunqxuaevyiaqx', 'orderdate': '2020-09-03', 'ordertype': 'sale', 'shipdate': '2020-09-16', 'discount': 0.1965497953690316, 'quantity': 29, 'productnumber': 'd5d5b72e-edd7-11ea-ab7a-0ec120e133fc'}]\n",
      "customernumber,customername,phonenumber,postalcode,locale,datecreated,email\n",
      "'d5d5b72f-edd7-11ea-ab7a-0ec120e133fc','dyhubgwlvyqqdaslqkmi','7176662','ayik','en-US.utf-8','2020-09-03','ccut@ihed.com'\n",
      "{'customernumber': 'd5d5b72f-edd7-11ea-ab7a-0ec120e133fc', 'customername': 'dyhubgwlvyqqdaslqkmi', 'phonenumber': 7176662, 'postalcode': 'ayik', 'locale': 'en-US.utf-8', 'datecreated': '2020-09-03', 'email': 'ccut@ihed.com'}\n",
      "{'customernumber': 'd5d5b72f-edd7-11ea-ab7a-0ec120e133fc', 'customername': 'dyhubgwlvyqqdaslqkmi', 'phonenumber': 7176662, 'postalcode': 'ayik', 'locale': 'en-US.utf-8', 'datecreated': '2020-09-03', 'email': 'ccut@ihed.com'}\n",
      "['customernumber', 'ordernumber', 'comments', 'orderdate', 'ordertype', 'shipdate', 'discount', 'quantity', 'productnumber']\n",
      "['d5d5b72f-edd7-11ea-ab7a-0ec120e133fc', 'd5d5b730-edd7-11ea-ab7a-0ec120e133fc', 'uixjbivlhdtmaelfjlrn', '2020-09-03', 'sale', '2020-09-16', 0.6820749537170963, 42, 'd5d5b731-edd7-11ea-ab7a-0ec120e133fc']\n",
      "{'customernumber': 'd5d5b72f-edd7-11ea-ab7a-0ec120e133fc', 'ordernumber': 'd5d5b730-edd7-11ea-ab7a-0ec120e133fc', 'comments': 'uixjbivlhdtmaelfjlrn', 'orderdate': '2020-09-03', 'ordertype': 'sale', 'shipdate': '2020-09-16', 'discount': 0.6820749537170963, 'quantity': 42, 'productnumber': 'd5d5b731-edd7-11ea-ab7a-0ec120e133fc'}\n",
      "{'customernumber': 'd5d5b72f-edd7-11ea-ab7a-0ec120e133fc', 'ordernumber': 'd5d5b730-edd7-11ea-ab7a-0ec120e133fc', 'comments': 'uixjbivlhdtmaelfjlrn', 'orderdate': '2020-09-03', 'ordertype': 'sale', 'shipdate': '2020-09-16', 'discount': 0.6820749537170963, 'quantity': 42, 'productnumber': 'd5d5b731-edd7-11ea-ab7a-0ec120e133fc'}\n",
      "[{'customernumber': 'd5d5b72c-edd7-11ea-ab7a-0ec120e133fc', 'ordernumber': 'd5d5b72d-edd7-11ea-ab7a-0ec120e133fc', 'comments': 'syjizruunqxuaevyiaqx', 'orderdate': '2020-09-03', 'ordertype': 'sale', 'shipdate': '2020-09-16', 'discount': 0.1965497953690316, 'quantity': 29, 'productnumber': 'd5d5b72e-edd7-11ea-ab7a-0ec120e133fc'}, {'customernumber': 'd5d5b72f-edd7-11ea-ab7a-0ec120e133fc', 'ordernumber': 'd5d5b730-edd7-11ea-ab7a-0ec120e133fc', 'comments': 'uixjbivlhdtmaelfjlrn', 'orderdate': '2020-09-03', 'ordertype': 'sale', 'shipdate': '2020-09-16', 'discount': 0.6820749537170963, 'quantity': 42, 'productnumber': 'd5d5b731-edd7-11ea-ab7a-0ec120e133fc'}]\n"
     ]
    }
   ],
   "source": [
    "def main():\n",
    "    \n",
    "    c = open(\"customers.json\", \"w\")\n",
    "    o = open(\"orders.json\", \"w\")\n",
    "    \n",
    "    generateCustomers(c,o)\n",
    "    \n",
    "    c.close()\n",
    "    o.close()\n",
    "   \n",
    "\n",
    "if __name__ == \"__main__\":\n",
    "    main()"
   ]
  },
  {
   "cell_type": "code",
   "execution_count": 332,
   "metadata": {},
   "outputs": [],
   "source": [
    "order=SalesOrder(\"123\")"
   ]
  },
  {
   "cell_type": "code",
   "execution_count": 333,
   "metadata": {},
   "outputs": [
    {
     "name": "stdout",
     "output_type": "stream",
     "text": [
      "customernumber,ordernumber,comments,orderdate,ordertype,shipdate,discount,quantity,productnumber\n",
      "'123','d5d5b732-edd7-11ea-ab7a-0ec120e133fc','bjljgrhmaqtwmrvavxli','2020-09-03','sale','2020-09-12','0.6370990843647207','47','d5d5b733-edd7-11ea-ab7a-0ec120e133fc'\n",
      "{'customernumber': '123', 'ordernumber': 'd5d5b732-edd7-11ea-ab7a-0ec120e133fc', 'comments': 'bjljgrhmaqtwmrvavxli', 'orderdate': '2020-09-03', 'ordertype': 'sale', 'shipdate': '2020-09-12', 'discount': 0.6370990843647207, 'quantity': 47, 'productnumber': 'd5d5b733-edd7-11ea-ab7a-0ec120e133fc'}\n"
     ]
    }
   ],
   "source": [
    "columns = ','.join([col for col in order.getColumns()])\n",
    "values = ','.join([\"'\" + commaCheck(value) + \"'\" for value in order.getValues()])\n",
    "print(columns)\n",
    "print(values)\n",
    "\n",
    "j=generateJSON(order)"
   ]
  },
  {
   "cell_type": "code",
   "execution_count": 334,
   "metadata": {},
   "outputs": [],
   "source": [
    "customer=Customer()"
   ]
  },
  {
   "cell_type": "code",
   "execution_count": 335,
   "metadata": {},
   "outputs": [],
   "source": [
    "customer.customerNumber=\"123\""
   ]
  },
  {
   "cell_type": "code",
   "execution_count": 336,
   "metadata": {},
   "outputs": [
    {
     "name": "stdout",
     "output_type": "stream",
     "text": [
      "['customernumber', 'customername', 'phonenumber', 'postalcode', 'locale', 'datecreated', 'email']\n"
     ]
    }
   ],
   "source": [
    "print(customer.getColumns())"
   ]
  },
  {
   "cell_type": "code",
   "execution_count": 337,
   "metadata": {},
   "outputs": [
    {
     "name": "stdout",
     "output_type": "stream",
     "text": [
      "['d5d5b734-edd7-11ea-ab7a-0ec120e133fc', 'gqeqwjtymeyxeksblbgt', 2691952, 'mwuo', 'en-US.utf-8', '2020-09-03', 'okvn@fghq.com']\n"
     ]
    }
   ],
   "source": [
    "print(customer.getValues())"
   ]
  },
  {
   "cell_type": "code",
   "execution_count": 338,
   "metadata": {},
   "outputs": [
    {
     "data": {
      "text/plain": [
       "['123',\n",
       " 'd5d5b732-edd7-11ea-ab7a-0ec120e133fc',\n",
       " 'bjljgrhmaqtwmrvavxli',\n",
       " '2020-09-03',\n",
       " 'sale',\n",
       " '2020-09-12',\n",
       " 0.6370990843647207,\n",
       " 47,\n",
       " 'd5d5b733-edd7-11ea-ab7a-0ec120e133fc']"
      ]
     },
     "execution_count": 338,
     "metadata": {},
     "output_type": "execute_result"
    }
   ],
   "source": [
    "order.getValues()"
   ]
  },
  {
   "cell_type": "code",
   "execution_count": 339,
   "metadata": {},
   "outputs": [
    {
     "data": {
      "text/plain": [
       "['customernumber',\n",
       " 'ordernumber',\n",
       " 'comments',\n",
       " 'orderdate',\n",
       " 'ordertype',\n",
       " 'shipdate',\n",
       " 'discount',\n",
       " 'quantity',\n",
       " 'productnumber']"
      ]
     },
     "execution_count": 339,
     "metadata": {},
     "output_type": "execute_result"
    }
   ],
   "source": [
    "order.getColumns()"
   ]
  },
  {
   "cell_type": "code",
   "execution_count": 340,
   "metadata": {},
   "outputs": [
    {
     "data": {
      "text/plain": [
       "0.16660097653478478"
      ]
     },
     "execution_count": 340,
     "metadata": {},
     "output_type": "execute_result"
    }
   ],
   "source": [
    "random.random()"
   ]
  },
  {
   "cell_type": "code",
   "execution_count": 342,
   "metadata": {},
   "outputs": [
    {
     "data": {
      "text/plain": [
       "36"
      ]
     },
     "execution_count": 342,
     "metadata": {},
     "output_type": "execute_result"
    }
   ],
   "source": [
    "len(str(uuid.uuid1()))"
   ]
  },
  {
   "cell_type": "code",
   "execution_count": null,
   "metadata": {},
   "outputs": [],
   "source": []
  }
 ],
 "metadata": {
  "kernelspec": {
   "display_name": "Python 3",
   "language": "python",
   "name": "python3"
  },
  "language_info": {
   "codemirror_mode": {
    "name": "ipython",
    "version": 3
   },
   "file_extension": ".py",
   "mimetype": "text/x-python",
   "name": "python",
   "nbconvert_exporter": "python",
   "pygments_lexer": "ipython3",
   "version": "3.7.9"
  }
 },
 "nbformat": 4,
 "nbformat_minor": 4
}
